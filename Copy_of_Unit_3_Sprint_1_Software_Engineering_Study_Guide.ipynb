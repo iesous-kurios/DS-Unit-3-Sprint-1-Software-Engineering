{
  "nbformat": 4,
  "nbformat_minor": 0,
  "metadata": {
    "colab": {
      "name": "Copy of Unit 3 Sprint 1 - Software Engineering - Study Guide.ipynb",
      "provenance": [],
      "collapsed_sections": [],
      "include_colab_link": true
    },
    "kernelspec": {
      "name": "python3",
      "display_name": "Python 3"
    }
  },
  "cells": [
    {
      "cell_type": "markdown",
      "metadata": {
        "id": "view-in-github",
        "colab_type": "text"
      },
      "source": [
        "<a href=\"https://colab.research.google.com/github/iesous-kurios/DS-Unit-3-Sprint-1-Software-Engineering/blob/master/Copy_of_Unit_3_Sprint_1_Software_Engineering_Study_Guide.ipynb\" target=\"_parent\"><img src=\"https://colab.research.google.com/assets/colab-badge.svg\" alt=\"Open In Colab\"/></a>"
      ]
    },
    {
      "cell_type": "markdown",
      "metadata": {
        "id": "Nd2OOOVXxXS1",
        "colab_type": "text"
      },
      "source": [
        "This study guide should reinforce and provide practice for all of the concepts you have seen in the past week. There are a mix of written questions and coding exercises, both are equally important to prepare you for the sprint challenge as well as to be able to speak on these topics comfortably in interviews and on the job.\n",
        "\n",
        "If you get stuck or are unsure of something remember the 20 minute rule. If that doesn't help, then research a solution with google and stackoverflow. Only once you have exausted these methods should you turn to your Team Lead - they won't be there on your SC or during an interview. That being said, don't hesitate to ask for help if you truly are stuck.\n",
        "\n",
        "Have fun studying!"
      ]
    },
    {
      "cell_type": "markdown",
      "metadata": {
        "id": "YbwATE4qeJx7",
        "colab_type": "text"
      },
      "source": [
        "# Object Oriented Programming"
      ]
    },
    {
      "cell_type": "markdown",
      "metadata": {
        "id": "fpvInKdXekFi",
        "colab_type": "text"
      },
      "source": [
        "## Questions"
      ]
    },
    {
      "cell_type": "markdown",
      "metadata": {
        "id": "Q6bS8AhBZ86H",
        "colab_type": "text"
      },
      "source": [
        "When completing this section, try to limit your answers to 2-3 sentences max and use plain english as much as possible. It's very easy to hide incomplete knowledge and understanding behind fancy or technical words, so imagine you are explaining these things to a non-technical interviewer.\n",
        "\n",
        "1. What is OOP?\n",
        "```\n",
        "Object-oriented programming is a way of writing computer programs using the idea of \"objects\" to represent data and methods as opposed to just lists of instructions to the computer, telling the computer to do certain things in a certain way, which is called procedural programming.\n",
        "```\n",
        "\n",
        "2. What is an object?\n",
        "```\n",
        "Objects have member variables and have behaviour associated with them.  An object is an instance of a class\n",
        "```\n",
        "\n",
        "3. What is a class?\n",
        "```\n",
        "A class is a code template for creating objects.  Objects are created using the contructors defined in the class\n",
        "```\n",
        "\n",
        "4. What is inheritance?\n",
        "```\n",
        "Inheritance is the mechanism of deriving new classes from existing ones. This  allows programmers to create classes that are built upon existing classes, and this makes it possible that a class created through inheritance inherites the attributes and methods of the parent class.\n",
        "```\n",
        "\n",
        "5. What does it mean to \"instantiate an object\"?\n",
        "```\n",
        "The instantiation operation (“calling” a class object) creates an empty object.\n",
        "When a class defines an __init__() method, class instantiation automatically invokes __init__() for the newly-created class instance thereby causing the new object to inheret the atributes of the parent class.\n",
        "```\n",
        "\n",
        "6. What is a dunder method (aka magic method)? What dunder method is called when you instantiate an object?\n",
        "```\n",
        "Dunder methods are the methods having two prefix and suffix underscores in the method name. A dunder method allows instances of your classes to behave as if they were functions, so that you can \"call\" them, pass them to functions that take functions as arguments, and so on.\n",
        "```\n",
        "\n",
        "7. What is the super method and when is it used?\n",
        "```\n",
        "Super method is a built-in function that returns the proxy object that allows you to refer parent class by 'super. ' The super function in Python can be used to gain access to inherited methods, which is either from the parent or sibling class.\n",
        "```\n",
        "\n",
        "8. What are two other programming paradigms?\n",
        "```\n",
        "Besides OOP, there are imperative and functional programming paradigms.  \n",
        "```"
      ]
    },
    {
      "cell_type": "markdown",
      "metadata": {
        "id": "dUQaIwbceohq",
        "colab_type": "text"
      },
      "source": [
        "## Practice Problems"
      ]
    },
    {
      "cell_type": "markdown",
      "metadata": {
        "id": "gzQyr1iPfJBH",
        "colab_type": "text"
      },
      "source": [
        "Create a `person` class with the following attributes and functions\n",
        "\n",
        "`Instance Attributes`\n",
        "- name\n",
        "- age - age should be between 0 and 120, if the age is outside of this range at the time of instantiation, set it to 21\n",
        "- add 2 more instance attributes\n",
        "\n",
        "`Functions`\n",
        "- greets - a function that takes in a name and returns `'Hello, [INPUT NAME]! My name is [INSTANCE NAME], nice to meet you!'`\n",
        "- had_birthday - a function that increments age by 1\n",
        "- Write a function that uses one of the instance attributes you added"
      ]
    },
    {
      "cell_type": "code",
      "metadata": {
        "id": "e5hj6Jjwen3J",
        "colab_type": "code",
        "colab": {}
      },
      "source": [
        "class Person:\n",
        "    \"\"\"\n",
        "    \n",
        "    Base class for all Persons.\n",
        "    name = True\n",
        "    age = True\n",
        "    hair = True\n",
        "    soteriology = True\n",
        "\n",
        "    Methods:\n",
        "\n",
        "    - had_birthday\n",
        "        - increases age by 1 \n",
        "    - speak\n",
        "        - Asks your name then greets you    \n",
        "\n",
        "    \"\"\"\n",
        "\n",
        "    #  Class variables\n",
        "    name = None\n",
        "    age = None\n",
        "    hair = None\n",
        "    soteriology = None\n",
        "\n",
        "    def __init__(self, name: str, age: int, hair: str, soteriology: str) -> None:\n",
        "        # Instance variable\n",
        "        self.name = name\n",
        "        self.age = age\n",
        "        if self.age > 120:\n",
        "            self.age = 21\n",
        "        if self.age < 0:\n",
        "            self.age = 21\n",
        "        self.hair = hair\n",
        "        self.soteriology = soteriology\n",
        "\n",
        "    def speak(self) -> str:\n",
        "\n",
        "        \"\"\"A Basic Greet Function.\"\"\"\n",
        "        #  Begin by getting name to greet\n",
        "\n",
        "        greetee = input(\"Enter your name : \")\n",
        "\n",
        "        print('Hello ', greetee, ',', 'my name is ', self.name)\n"
      ],
      "execution_count": 0,
      "outputs": []
    },
    {
      "cell_type": "code",
      "metadata": {
        "id": "dwfsaeRPhfGz",
        "colab_type": "code",
        "colab": {}
      },
      "source": [
        "def speak(self) -> str:\n",
        "    \"\"\"A Basic Greet Function.\"\"\"\n",
        "    #  Begin by getting name to greet\n",
        "\n",
        "    greetee = input(\"Enter your name : \")\n",
        "\n",
        "    print('Hello ', greetee, ',', 'my name is ', self.name)\n",
        "\n",
        "\n",
        "def had_birthday(self) -> int:\n",
        "    \"\"\" person has birthday, increase age by 1\"\"\"\n",
        "    self.age = self.age + 1\n",
        "\n",
        "    print('Happy Birthday', self.name, '! You are now:',\n",
        "          self.age, 'years old!')\n"
      ],
      "execution_count": 0,
      "outputs": []
    },
    {
      "cell_type": "markdown",
      "metadata": {
        "id": "rq6bizULj6YF",
        "colab_type": "text"
      },
      "source": [
        "Instantiate your person class, the instance name should be the same as whatever is passed into the name attribute. Make sure you can access all attributes and all functions work as expected."
      ]
    },
    {
      "cell_type": "code",
      "metadata": {
        "id": "ukmqSOBNkHge",
        "colab_type": "code",
        "colab": {}
      },
      "source": [
        "bob = Person('Bob', -25, 'bald', 'Monergist')\n"
      ],
      "execution_count": 0,
      "outputs": []
    },
    {
      "cell_type": "code",
      "metadata": {
        "id": "K_I2UH0ikdny",
        "colab_type": "code",
        "outputId": "917f3fe2-08f9-4f73-df63-ed3b82434c1c",
        "colab": {
          "base_uri": "https://localhost:8080/",
          "height": 34
        }
      },
      "source": [
        "bob.name"
      ],
      "execution_count": 61,
      "outputs": [
        {
          "output_type": "execute_result",
          "data": {
            "text/plain": [
              "'Bob'"
            ]
          },
          "metadata": {
            "tags": []
          },
          "execution_count": 61
        }
      ]
    },
    {
      "cell_type": "code",
      "metadata": {
        "id": "sZSKbwkKscD5",
        "colab_type": "code",
        "colab": {
          "base_uri": "https://localhost:8080/",
          "height": 34
        },
        "outputId": "cd0bb618-49ed-4e9c-c86b-d8bb841720cf"
      },
      "source": [
        "bob.hair"
      ],
      "execution_count": 62,
      "outputs": [
        {
          "output_type": "execute_result",
          "data": {
            "text/plain": [
              "'bald'"
            ]
          },
          "metadata": {
            "tags": []
          },
          "execution_count": 62
        }
      ]
    },
    {
      "cell_type": "code",
      "metadata": {
        "id": "mBMvWhETrx9B",
        "colab_type": "code",
        "colab": {
          "base_uri": "https://localhost:8080/",
          "height": 34
        },
        "outputId": "b4224ac1-9ffd-486f-f52c-2142bdfb0bda"
      },
      "source": [
        "bob.soteriology"
      ],
      "execution_count": 63,
      "outputs": [
        {
          "output_type": "execute_result",
          "data": {
            "text/plain": [
              "'Monergist'"
            ]
          },
          "metadata": {
            "tags": []
          },
          "execution_count": 63
        }
      ]
    },
    {
      "cell_type": "code",
      "metadata": {
        "id": "xeDNB04wl1TX",
        "colab_type": "code",
        "outputId": "4339c40c-b04d-40f0-dfc6-a571852fcad8",
        "colab": {
          "base_uri": "https://localhost:8080/",
          "height": 50
        }
      },
      "source": [
        "speak(bob)"
      ],
      "execution_count": 64,
      "outputs": [
        {
          "output_type": "stream",
          "text": [
            "Enter your name : James\n",
            "Hello  James , my name is  Bob\n"
          ],
          "name": "stdout"
        }
      ]
    },
    {
      "cell_type": "code",
      "metadata": {
        "id": "leJHz_DJmRpf",
        "colab_type": "code",
        "outputId": "c380b5dc-5303-4ade-ad4e-68c837276f9a",
        "colab": {
          "base_uri": "https://localhost:8080/",
          "height": 34
        }
      },
      "source": [
        "bob.age"
      ],
      "execution_count": 65,
      "outputs": [
        {
          "output_type": "execute_result",
          "data": {
            "text/plain": [
              "21"
            ]
          },
          "metadata": {
            "tags": []
          },
          "execution_count": 65
        }
      ]
    },
    {
      "cell_type": "code",
      "metadata": {
        "id": "kQTuRvKTthHI",
        "colab_type": "code",
        "outputId": "61586767-28c2-4df9-de13-22dbee4de20d",
        "colab": {
          "base_uri": "https://localhost:8080/",
          "height": 34
        }
      },
      "source": [
        "had_birthday(bob)"
      ],
      "execution_count": 66,
      "outputs": [
        {
          "output_type": "stream",
          "text": [
            "Happy Birthday Bob ! You are now: 22 years old!\n"
          ],
          "name": "stdout"
        }
      ]
    },
    {
      "cell_type": "code",
      "metadata": {
        "id": "1jSaglmDkEZ7",
        "colab_type": "code",
        "colab": {
          "base_uri": "https://localhost:8080/",
          "height": 34
        },
        "outputId": "0716139c-43a2-4d8e-c348-b8126c11515d"
      },
      "source": [
        "bob.age"
      ],
      "execution_count": 67,
      "outputs": [
        {
          "output_type": "execute_result",
          "data": {
            "text/plain": [
              "22"
            ]
          },
          "metadata": {
            "tags": []
          },
          "execution_count": 67
        }
      ]
    },
    {
      "cell_type": "markdown",
      "metadata": {
        "id": "i2dHVZXjhlJS",
        "colab_type": "text"
      },
      "source": [
        "Create a `worker` class that inherits from `person`. It should have another dunder method besides `__init__` and have the following attributes and functions\n",
        "\n",
        "`Instance Attributes`\n",
        "- All of the attributes from person\n",
        "- company\n",
        "- job_title\n",
        "- personal_title (mrs, mr, Dr., etc.)\n",
        "- Add 2 more attributes relevant to just the worker class\n",
        "\n",
        "`Functions`\n",
        "- All of the functions from person\n",
        "- Override the greets class to now take in a personal title and name and returns `'Hello, [INPUT PERSONAL TITLE][INPUT NAME]! My name is [INSTANCE NAME], I work for [INSTANCE COMPANY].'`\n",
        "- Add a new function relevant to just the worker class that uses at least 2 attributes"
      ]
    },
    {
      "cell_type": "code",
      "metadata": {
        "id": "bnt4a3p9ZYFz",
        "colab_type": "code",
        "colab": {}
      },
      "source": [
        "class Worker(Person):\n",
        "    \"\"\"Base for all workers, inherits from Person.\n",
        "\n",
        "    Class variables:\n",
        "     - company: True\n",
        "     - job_title: True\n",
        "     - personal_title: True\n",
        "     - good_worker: True\n",
        "     - years_at_job\n",
        "\n",
        "     \"\"\"\n",
        "\n",
        "     #  Class variables\n",
        "    company = None\n",
        "    job_title = None\n",
        "    personal_title = None\n",
        "    good_worker = None\n",
        "    years_at_job = None\n",
        "\n",
        "    def __init__(self, name: str, age: int, hair: str, soteriology: str,\n",
        "                 company: str, job_title: str, personal_title: str,\n",
        "                 good_worker: str, years_at_job: int = None):\n",
        "        # Call super to instantiate parent class instance variables.\n",
        "        super().__init__(name, age, hair, soteriology)  # Pass parent variables to super.\n",
        "        # Instantiate a specific Human instance variable.\n",
        "        self.company = company\n",
        "        self.job_title = job_title\n",
        "        self.personal_title = personal_title\n",
        "        self.good_worker = good_worker\n",
        "        self.years_at_job = years_at_job\n",
        "\n",
        "    def __repr__(self):\n",
        "        personal_title = input(\"Enter your prefered Title : \")\n",
        "        greetee = input('Enter your name : ')\n",
        "        return f'Hello {personal_title} {greetee},My Name is {self.name} and I am {self.age} years old'    \n"
      ],
      "execution_count": 0,
      "outputs": []
    },
    {
      "cell_type": "code",
      "metadata": {
        "id": "4e9Rc_HQYUdy",
        "colab_type": "code",
        "colab": {}
      },
      "source": [
        "jack = Worker('Jack', 180, 'bald', 'monergist', 'Acme Cleaners', \n",
        "              'Floor Cleaner', 'Mr.', 'Sometimes', 15)"
      ],
      "execution_count": 0,
      "outputs": []
    },
    {
      "cell_type": "code",
      "metadata": {
        "id": "3LhMLF4OYwdb",
        "colab_type": "code",
        "colab": {
          "base_uri": "https://localhost:8080/",
          "height": 67
        },
        "outputId": "30249a61-0f57-491c-fb7a-d8f150f62c54"
      },
      "source": [
        "jack.speak"
      ],
      "execution_count": 91,
      "outputs": [
        {
          "output_type": "stream",
          "text": [
            "Enter your prefered Title : Mr\n",
            "Enter your name : Jackson\n"
          ],
          "name": "stdout"
        },
        {
          "output_type": "execute_result",
          "data": {
            "text/plain": [
              "<bound method Person.speak of Hello Mr Jackson,My Name is Jack and I am 21 years old>"
            ]
          },
          "metadata": {
            "tags": []
          },
          "execution_count": 91
        }
      ]
    },
    {
      "cell_type": "code",
      "metadata": {
        "id": "ySL1F1CkTYHj",
        "colab_type": "code",
        "colab": {}
      },
      "source": [
        "def __repr__(self):\n",
        "        \"\"\"Return the class name and dict of instance variables and their values when printing the instance.\"\"\"\n",
        "        return f'{self.__class__} {self.__dict__}'"
      ],
      "execution_count": 0,
      "outputs": []
    },
    {
      "cell_type": "code",
      "metadata": {
        "id": "AFYuOrKQTYMJ",
        "colab_type": "code",
        "colab": {
          "base_uri": "https://localhost:8080/",
          "height": 145
        },
        "outputId": "b11d22d4-3159-4624-bac3-9f0f1f73e037"
      },
      "source": [
        "class Worker(Person):\n",
        "    \"\"\"Base for all workers, inherits from Person.\n",
        "\n",
        "    Class variables:\n",
        "     - company: True"
      ],
      "execution_count": 69,
      "outputs": [
        {
          "output_type": "error",
          "ename": "SyntaxError",
          "evalue": "ignored",
          "traceback": [
            "\u001b[0;36m  File \u001b[0;32m\"<ipython-input-69-e32bde6ece4a>\"\u001b[0;36m, line \u001b[0;32m5\u001b[0m\n\u001b[0;31m    - company: True\u001b[0m\n\u001b[0m                   \n^\u001b[0m\n\u001b[0;31mSyntaxError\u001b[0m\u001b[0;31m:\u001b[0m EOF while scanning triple-quoted string literal\n"
          ]
        }
      ]
    },
    {
      "cell_type": "code",
      "metadata": {
        "id": "Ju-8VzeATYQ8",
        "colab_type": "code",
        "colab": {}
      },
      "source": [
        ""
      ],
      "execution_count": 0,
      "outputs": []
    },
    {
      "cell_type": "code",
      "metadata": {
        "id": "dWbyYE8PTYUv",
        "colab_type": "code",
        "colab": {}
      },
      "source": [
        ""
      ],
      "execution_count": 0,
      "outputs": []
    },
    {
      "cell_type": "markdown",
      "metadata": {
        "id": "QMlNQIUUkbSs",
        "colab_type": "text"
      },
      "source": [
        "Instantiate your worker class, the instance name should be the same as whatever is passed into the name attribute. Make sure you can access all attributes and all functions work as expected."
      ]
    },
    {
      "cell_type": "code",
      "metadata": {
        "id": "aeVIWEMAkvTM",
        "colab_type": "code",
        "colab": {}
      },
      "source": [
        ""
      ],
      "execution_count": 0,
      "outputs": []
    },
    {
      "cell_type": "markdown",
      "metadata": {
        "id": "5CdB5tYilNNi",
        "colab_type": "text"
      },
      "source": [
        "Verify all of your code above is PEP8 Compliant"
      ]
    },
    {
      "cell_type": "markdown",
      "metadata": {
        "id": "dcWZeuPvmGvg",
        "colab_type": "text"
      },
      "source": [
        "# Code Review"
      ]
    },
    {
      "cell_type": "markdown",
      "metadata": {
        "id": "ijwt2MNXmONV",
        "colab_type": "text"
      },
      "source": [
        "## Questions"
      ]
    },
    {
      "cell_type": "markdown",
      "metadata": {
        "id": "igFiqkERmWSk",
        "colab_type": "text"
      },
      "source": [
        "When completing this section, try to limit your answers to 2-3 sentences max and use plain english as much as possible. It's very easy to hide incomplete knowledge and understanding behind fancy or technical words, so imagine you are explaining these things to a non-technical interviewer.\n",
        "\n",
        "1. What is a style guide? Why does it matter?\n",
        "```\n",
        "Put your answer here\n",
        "```\n",
        "\n",
        "2. What is the style guide for Python called? Name 3 conventions in the style guide.\n",
        "```\n",
        "Put your answer here\n",
        "```\n",
        "\n",
        "3. What are we looking for in a code review?\n",
        "```\n",
        "Put your answer here\n",
        "```\n",
        "\n",
        "4. Of the items listed in question 3, which do you find to be the most important one and why?\n",
        "```\n",
        "Put your answer here\n",
        "```\n",
        "\n",
        "5. Of the items listed in question 3, make a case for another item to be the most important.\n",
        "```\n",
        "Put your answer here\n",
        "```\n",
        "\n",
        "6. What are some non-code considerations when giving a code review?\n",
        "```\n",
        "Put your answer here\n",
        "```"
      ]
    },
    {
      "cell_type": "markdown",
      "metadata": {
        "id": "TfGAb--lmTS1",
        "colab_type": "text"
      },
      "source": [
        "## Practice Problems"
      ]
    },
    {
      "cell_type": "markdown",
      "metadata": {
        "id": "8r525vW1o8RI",
        "colab_type": "text"
      },
      "source": [
        "Use the code below to answer the following questions"
      ]
    },
    {
      "cell_type": "code",
      "metadata": {
        "id": "K6X-1BM8mSJV",
        "colab_type": "code",
        "colab": {}
      },
      "source": [
        "def sumMult35(n):\n",
        "  #This function finds checks to see if all numbers between 1 and n are a multiple of 3 or five and then adds those ones up. After that it returns that total.\n",
        "  t = 0\n",
        "  for i in range(1, n):\n",
        "    if ((i%3==0)): #mult of 3?\n",
        "      if (i%5==0): '''multiple of 5?'''\n",
        "        t=t+i #add up\n",
        "  return t\n",
        "\n",
        "sumMult35(16)"
      ],
      "execution_count": 0,
      "outputs": []
    },
    {
      "cell_type": "markdown",
      "metadata": {
        "id": "6Y52bPq0pBm7",
        "colab_type": "text"
      },
      "source": [
        "Write a short code review for the code above, that your coworker (the author of the code) will read. Remember two things: they are a fellow human, and also that you are not rewriting it for them, simply giving critique so that they can fix it later.\n",
        "\n",
        "```\n",
        "Put your answer here\n",
        "```"
      ]
    },
    {
      "cell_type": "markdown",
      "metadata": {
        "id": "cFVnDJSDpz5S",
        "colab_type": "text"
      },
      "source": [
        "Oh, no! You've swapped bodies with your coworker and now have to fix the code. Use your code review to rewrite the function, and make sure it is PEP8 compliant."
      ]
    },
    {
      "cell_type": "code",
      "metadata": {
        "id": "WLyoAK5RqL9B",
        "colab_type": "code",
        "colab": {}
      },
      "source": [
        ""
      ],
      "execution_count": 0,
      "outputs": []
    },
    {
      "cell_type": "markdown",
      "metadata": {
        "id": "MT4KnnBdrwCh",
        "colab_type": "text"
      },
      "source": [
        "# Containers"
      ]
    },
    {
      "cell_type": "markdown",
      "metadata": {
        "id": "alRbvYkBr2UE",
        "colab_type": "text"
      },
      "source": [
        "## Questions"
      ]
    },
    {
      "cell_type": "markdown",
      "metadata": {
        "id": "4HwVuidTr4TT",
        "colab_type": "text"
      },
      "source": [
        "1. What is a container? Why are they used?\n",
        "```\n",
        "Put your answer here\n",
        "```\n",
        "\n",
        "2. From lecture we know Docker is software to create containers. Name 2 Docker competitors.\n",
        "```\n",
        "Put your answer here\n",
        "```"
      ]
    },
    {
      "cell_type": "markdown",
      "metadata": {
        "id": "P8HQI4R5steC",
        "colab_type": "text"
      },
      "source": [
        "# Software Testing"
      ]
    },
    {
      "cell_type": "markdown",
      "metadata": {
        "id": "mslC0tl-tPUZ",
        "colab_type": "text"
      },
      "source": [
        "## Questions"
      ]
    },
    {
      "cell_type": "markdown",
      "metadata": {
        "id": "9d8MIl9dtRMA",
        "colab_type": "text"
      },
      "source": [
        "When completing this section, try to limit your answers to 2-3 sentences max and use plain english as much as possible. It's very easy to hide incomplete knowledge and understanding behind fancy or technical words, so imagine you are explaining these things to a non-technical interviewer.\n",
        "\n",
        "1. What is unit testing and why do we do it?\n",
        "```\n",
        "Put your answer here\n",
        "```\n",
        "\n",
        "2. When writing unit tests, what should we consider? Why?\n",
        "```\n",
        "Put your answer here\n",
        "```\n",
        "\n",
        "3. How many unit tests should we have?\n",
        "```\n",
        "Put your answer here\n",
        "```"
      ]
    },
    {
      "cell_type": "markdown",
      "metadata": {
        "id": "Z7mPWVQhuEcY",
        "colab_type": "text"
      },
      "source": [
        "## Practice Problems"
      ]
    },
    {
      "cell_type": "markdown",
      "metadata": {
        "id": "OEoaQiBbuHuH",
        "colab_type": "text"
      },
      "source": [
        "For the following problems you'll need to move your person and worker classes to `.py` files.\n",
        "\n",
        "Write the following unit tests in a third `.py` file. Verify they work by running the file, and then copy and paste the code into the cell below.\n",
        "- Verify that an instance of person has an age between 0 and 120 when first instantiated\n",
        "- Verify the same thing with a worker instance\n",
        "- Verify the worker `greet` function uses the `personal_title` of the person passed to it.\n",
        "- Write your own unit test"
      ]
    },
    {
      "cell_type": "code",
      "metadata": {
        "id": "fFuP-ZfKv8h1",
        "colab_type": "code",
        "colab": {}
      },
      "source": [
        ""
      ],
      "execution_count": 0,
      "outputs": []
    },
    {
      "cell_type": "markdown",
      "metadata": {
        "id": "QQQopcNseCeT",
        "colab_type": "text"
      },
      "source": [
        "The code in all 3 `.py` files should be PEP8 compliant"
      ]
    },
    {
      "cell_type": "markdown",
      "metadata": {
        "id": "RvdEFbjMwZTx",
        "colab_type": "text"
      },
      "source": [
        "# Git Commands"
      ]
    },
    {
      "cell_type": "markdown",
      "metadata": {
        "id": "yjAVDrQuwcZQ",
        "colab_type": "text"
      },
      "source": [
        "1. What is the command to make a local copy of one of your repos?\n",
        "```\n",
        "Put your answer here\n",
        "```\n",
        "\n",
        "2. What does the command `git status` do?\n",
        "```\n",
        "Put your answer here\n",
        "```\n",
        "\n",
        "3. How do you add the changes made in a local repo to your repo on github?\n",
        "```\n",
        "Put your answer here\n",
        "```\n",
        "\n",
        "4. What is a branch? Why is it used?\n",
        "```\n",
        "Put your answer here\n",
        "```"
      ]
    }
  ]
}